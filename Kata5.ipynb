{
 "cells": [
  {
   "cell_type": "markdown",
   "metadata": {},
   "source": [
    "# Ejercicio 1: Utilizar operadores aritmeticos"
   ]
  },
  {
   "cell_type": "code",
   "execution_count": 4,
   "metadata": {},
   "outputs": [
    {
     "name": "stdout",
     "output_type": "stream",
     "text": [
      "The distance between Earth and Jupiter is  628949330 km \n",
      "And  390577533.93  miles\n"
     ]
    }
   ],
   "source": [
    "# Exploremos cómo podemos crear un programa que pueda calcular la distancia entre dos planetas. \n",
    "# Comenzaremos usando dos distancias de planetas: Tierra (149.597.870 km) y Júpiter (778.547.200 km).\n",
    "\n",
    "earth = 149597870\n",
    "jupiter = 778547200\n",
    "\n",
    "# Calcular la distancia entre planetas\n",
    "distance = abs(earth-jupiter)\n",
    "miles = distance * 0.621\n",
    "print(\"The distance between Earth and Jupiter is \", distance, \"km \\nAnd \", miles,\" miles\")"
   ]
  },
  {
   "cell_type": "markdown",
   "metadata": {},
   "source": [
    "# Ejercicio 2: Convierte cadenas y valores absolutos"
   ]
  },
  {
   "cell_type": "markdown",
   "metadata": {},
   "source": [
    "Crear una aplicación para trabajar con números y entrada de usuario\n",
    "Con frecuencia, deberás convertir los valores de cadena en números para realizar correctamente diferentes operaciones o determinar el valor absoluto de un número.\n",
    "\n",
    "Para crear nuestra aplicación, queremos leer la distancia del sol para dos planetas, y luego mostrar la distancia entre los planetas. Haremos esto usando input para leer los valores, int para convertir a entero y luego abs para convertir el resultado en su valor absoluto."
   ]
  },
  {
   "cell_type": "code",
   "execution_count": 5,
   "metadata": {},
   "outputs": [
    {
     "name": "stdout",
     "output_type": "stream",
     "text": [
      "Distance:  50300000  km\n",
      "Distance:  31236300.0  mi\n"
     ]
    }
   ],
   "source": [
    "# Almacenar las entradas del usuario y convertirlas cadenas de ambos planetas a números enteros\n",
    "planet1 = int(input(\"Type the distance of the planet 1\"))\n",
    "planet2 = int(input(\"Type the distance of the planet 2\"))\n",
    "\n",
    "# Realizar el cálculo y determinar el valor absoluto\n",
    "distance = abs(planet1 - planet2)\n",
    "print(\"Distance: \",distance,\" km\")\n",
    "\n",
    "distance *= 0.621\n",
    "print(\"Distance: \",distance,\" mi\")"
   ]
  }
 ],
 "metadata": {
  "interpreter": {
   "hash": "d256a6f7673ee6aaf65c086682c7269945f378b1c13e870a1d515a52895d681c"
  },
  "kernelspec": {
   "display_name": "Python 3.10.2 64-bit",
   "language": "python",
   "name": "python3"
  },
  "language_info": {
   "codemirror_mode": {
    "name": "ipython",
    "version": 3
   },
   "file_extension": ".py",
   "mimetype": "text/x-python",
   "name": "python",
   "nbconvert_exporter": "python",
   "pygments_lexer": "ipython3",
   "version": "3.10.2"
  },
  "orig_nbformat": 4
 },
 "nbformat": 4,
 "nbformat_minor": 2
}
