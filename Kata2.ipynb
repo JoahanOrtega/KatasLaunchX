{
 "cells": [
  {
   "cell_type": "markdown",
   "metadata": {},
   "source": [
    "# Crear un entorno virtual"
   ]
  },
  {
   "cell_type": "markdown",
   "metadata": {},
   "source": [
    "- Correr 'python3 -m venv env', en este caso se usó el comando 'py -3 -m venv env'."
   ]
  },
  {
   "cell_type": "markdown",
   "metadata": {},
   "source": [
    "- Una vez creado el entorno virtual, ejecutar el comando para activarlo 'env\\Scripts\\activate'.\n",
    "\n",
    "- Al terminar podemos observar como se ha activado el entorno virtual."
   ]
  },
  {
   "cell_type": "markdown",
   "metadata": {},
   "source": [
    "# Instalar una biblioteca"
   ]
  },
  {
   "cell_type": "markdown",
   "metadata": {},
   "source": [
    "- Cuando se ejecute el comando 'pip freeze' por primera vez no se obtendrá respuesta dado que no se ha instalado ninguna biblioteca."
   ]
  },
  {
   "cell_type": "markdown",
   "metadata": {},
   "source": [
    "- Ejecutar el comando 'pip install python-dateutil' para instalar dicha biblioteca."
   ]
  },
  {
   "cell_type": "markdown",
   "metadata": {},
   "source": [
    "- Al volver a ejecutar 'pip freeze' se logra ver como ha cambiado la lista de bibliotecas."
   ]
  },
  {
   "cell_type": "markdown",
   "metadata": {},
   "source": [
    "# Desactivar un entorno virtual"
   ]
  },
  {
   "cell_type": "markdown",
   "metadata": {},
   "source": [
    "Para salir (desactivar) del entorno virtual es necesario ejecutar el comando 'deactivate'.\n",
    "\n",
    "De este modo se ha desactivado el entorno virtual"
   ]
  }
 ],
 "metadata": {
  "interpreter": {
   "hash": "d256a6f7673ee6aaf65c086682c7269945f378b1c13e870a1d515a52895d681c"
  },
  "kernelspec": {
   "display_name": "Python 3.10.2 64-bit",
   "language": "python",
   "name": "python3"
  },
  "language_info": {
   "name": "python",
   "version": "3.10.2"
  },
  "orig_nbformat": 4
 },
 "nbformat": 4,
 "nbformat_minor": 2
}
